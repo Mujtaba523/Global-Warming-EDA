{
 "cells": [
  {
   "cell_type": "markdown",
   "id": "0cf02bd1",
   "metadata": {},
   "source": [
    "<img src = \"https://www.hh.se/images/18.4ad3d9ee1656d0f05ef643a3/1550842090193/hh-logo.svg\" width = \"150\" align = \"left\">  \n",
    "<br/>\n",
    "<br/>\n",
    "    \n",
    "# Python, a Gateway to Machine Learning\n",
    "\n",
    "<!--\n",
    "<center> <img src = \"https://www.link.cs.cmu.edu/splay/tree5.jpg\" width = \"200\"></center>\n",
    "<center><i>A Self-Adjusting Search Tree</i></center>\n",
    "<center><i>by Jorge Stolfi</i></center>\n",
    "<br>\n",
    "-->\n",
    "\n",
    "## Project: Asking questions to data using Pandas and NumPy\n",
    "\n",
    "### Introduction\n",
    "\n",
    "This is a Juypyter notebook that contains text and links for the last assignment of the course. The assignmement is designed as a project: an open ended task that allows you to apply what you learned about Python including Pandas and NumPy to ask questions and find answers to questions of social relevance. \n",
    "\n",
    "The topics you can choose are\n",
    "*  climate change and its consequences,\n",
    "* health care and its consequences or\n",
    "* education and its consequences\n",
    "\n",
    "\n",
    "On completion of your project this notebook should include the following parts:\n",
    "\n",
    "* An introduction to what it is that you want to explore. \n",
    "\n",
    "* A description of the data sets that you use, including the sources and what kind of data they include.\n",
    "\n",
    "* A section for loading the data (possibly from several data sets) including  code to explore and possibly clean or reorganize the data so that you can use it for the rest of the problem.\n",
    "      \n",
    "* A section that asks one or more questions that can be answered by exploring, combining, transforming the data.\n",
    "\n",
    "      \n",
    "* A section with programs for the questions.\n",
    "\n",
    "\n",
    "* A section with an analysis of the results of your programs to explain the answers to your questions.\n",
    "\n",
    "In each part there can be several cells, both code and markdown. But each section has to start with a markdown cell including at least the title of the section: you will find these cells with a little explanation alredy in the notebook.\n",
    "\n",
    "\n",
    "\n",
    "This project is part of the examination of the course. There are instructions on how to submit, including deadlines and advice, in the Blackboard site for the course. Please follow these instructions. There you can also see what is needed in order to pass. \n",
    "\n"
   ]
  },
  {
   "cell_type": "markdown",
   "id": "0b0d9e42",
   "metadata": {},
   "source": [
    "# Advanced Global Warming EDA\n",
    "\n"
   ]
  },
  {
   "cell_type": "markdown",
   "id": "69e791cb",
   "metadata": {},
   "source": [
    "After the horrors that happened this year in Pakistan due to floods, I decided to take a look to the global temperatures and how exactly are they evolving and have been evolving during the years.\n",
    "\n",
    "1) What is climate change?\n",
    "* Climate change refers to long-term shifts in temperatures and weather patterns. These shifts may be natural, such as through variations in the solar cycle. But since the 1800s, human activities have been the main driver of climate change, primarily due to burning fossil fuels like coal, oil and gas i.e. CO2 emissions.\n",
    "\n",
    "2) What is global warming?\n",
    "* Global warming is the long-term warming of the planet’s overall temperature.\n",
    "\n",
    "3) Effects of global warming\n",
    "* Temperature increase\n",
    "* Sea level rise (because of massive ice mass loss)\n",
    "* Shifts in flower's blooming\n",
    "* Extreme weather events\n",
    "\n",
    "4) Questions:\n",
    "* What highest temperature is reached by Earth till now?\n",
    "* Which are the top 8 hottest countries?\n",
    "* Which is the hottest region?\n",
    "* What is the highest average temperature of Pakistan from 1995-2020?\n",
    "* What is the highest average CO2 emission done by Pakistan from 1995-2020?\n",
    "* Which top 8 countries produces the high amount of CO2?\n",
    "* Is CO2 emission directly related to population? "
   ]
  },
  {
   "cell_type": "markdown",
   "id": "a825a3c5",
   "metadata": {},
   "source": [
    "## Data sources\n"
   ]
  },
  {
   "cell_type": "markdown",
   "id": "c69716dc",
   "metadata": {},
   "source": [
    "Datasets used are from kaggle (1st link = https://www.kaggle.com/datasets/sudalairajkumar/daily-temperature-of-major-cities, \n",
    "\n",
    "2nd link = https://www.kaggle.com/datasets/moazzimalibhatti/co2-emission-by-countries-year-wise-17502022). \n",
    "\n",
    "\n",
    "1) CO2 emission by countries.csv:\n",
    "\n",
    "* Country: Name of Country\n",
    "* Code: Two letter short symbolic code\n",
    "* Calling Code: Calling code of every country\n",
    "* Year: Year of CO2 emission\n",
    "* CO2 emission (Tons): Amount of CO2 emission in Tons\n",
    "* Population(2022): Population of country in 2022\n",
    "* Area: Area of that country in km2\n",
    "* % of World: How much % of World landmass, this country covered\n",
    "* Density(km2): Density according to Area in km2\n",
    "\n",
    "2) city_temperature.csv\n",
    "\n",
    "* Region: Name of Region\n",
    "* Country: Name of Country\n",
    "* State: Name of State\n",
    "* City: Name of City\n",
    "* Month: Month of observation\n",
    "* Day: Day of observation\n",
    "* Year: Year of Observation\n",
    "* AvgTemperature: Average temperature on the given day (In fahrenheit)\n",
    "\n"
   ]
  },
  {
   "cell_type": "markdown",
   "id": "0eed7e61",
   "metadata": {},
   "source": [
    "## Data extraction\n",
    "\n"
   ]
  },
  {
   "cell_type": "markdown",
   "id": "f13092c5",
   "metadata": {},
   "source": [
    "#### Importing Libraries"
   ]
  },
  {
   "cell_type": "code",
   "execution_count": 22,
   "id": "d1c63360",
   "metadata": {},
   "outputs": [],
   "source": [
    "# Imports\n",
    "import pandas as pd\n",
    "import numpy as np\n",
    "import matplotlib.pyplot as plt\n",
    "import seaborn as sns"
   ]
  },
  {
   "cell_type": "markdown",
   "id": "b61c6ca0",
   "metadata": {},
   "source": [
    "#### Data Cleaning for city_temperature.csv"
   ]
  },
  {
   "cell_type": "code",
   "execution_count": 23,
   "id": "c8246476",
   "metadata": {},
   "outputs": [
    {
     "data": {
      "text/html": [
       "<div>\n",
       "<style scoped>\n",
       "    .dataframe tbody tr th:only-of-type {\n",
       "        vertical-align: middle;\n",
       "    }\n",
       "\n",
       "    .dataframe tbody tr th {\n",
       "        vertical-align: top;\n",
       "    }\n",
       "\n",
       "    .dataframe thead th {\n",
       "        text-align: right;\n",
       "    }\n",
       "</style>\n",
       "<table border=\"1\" class=\"dataframe\">\n",
       "  <thead>\n",
       "    <tr style=\"text-align: right;\">\n",
       "      <th></th>\n",
       "      <th>Region</th>\n",
       "      <th>Country</th>\n",
       "      <th>State</th>\n",
       "      <th>City</th>\n",
       "      <th>Month</th>\n",
       "      <th>Day</th>\n",
       "      <th>Year</th>\n",
       "      <th>AvgTemperature</th>\n",
       "    </tr>\n",
       "  </thead>\n",
       "  <tbody>\n",
       "    <tr>\n",
       "      <th>0</th>\n",
       "      <td>Africa</td>\n",
       "      <td>Algeria</td>\n",
       "      <td>NaN</td>\n",
       "      <td>Algiers</td>\n",
       "      <td>1</td>\n",
       "      <td>1</td>\n",
       "      <td>1995</td>\n",
       "      <td>64.2</td>\n",
       "    </tr>\n",
       "    <tr>\n",
       "      <th>1</th>\n",
       "      <td>Africa</td>\n",
       "      <td>Algeria</td>\n",
       "      <td>NaN</td>\n",
       "      <td>Algiers</td>\n",
       "      <td>1</td>\n",
       "      <td>2</td>\n",
       "      <td>1995</td>\n",
       "      <td>49.4</td>\n",
       "    </tr>\n",
       "    <tr>\n",
       "      <th>2</th>\n",
       "      <td>Africa</td>\n",
       "      <td>Algeria</td>\n",
       "      <td>NaN</td>\n",
       "      <td>Algiers</td>\n",
       "      <td>1</td>\n",
       "      <td>3</td>\n",
       "      <td>1995</td>\n",
       "      <td>48.8</td>\n",
       "    </tr>\n",
       "    <tr>\n",
       "      <th>3</th>\n",
       "      <td>Africa</td>\n",
       "      <td>Algeria</td>\n",
       "      <td>NaN</td>\n",
       "      <td>Algiers</td>\n",
       "      <td>1</td>\n",
       "      <td>4</td>\n",
       "      <td>1995</td>\n",
       "      <td>46.4</td>\n",
       "    </tr>\n",
       "    <tr>\n",
       "      <th>4</th>\n",
       "      <td>Africa</td>\n",
       "      <td>Algeria</td>\n",
       "      <td>NaN</td>\n",
       "      <td>Algiers</td>\n",
       "      <td>1</td>\n",
       "      <td>5</td>\n",
       "      <td>1995</td>\n",
       "      <td>47.9</td>\n",
       "    </tr>\n",
       "  </tbody>\n",
       "</table>\n",
       "</div>"
      ],
      "text/plain": [
       "   Region  Country State     City  Month  Day  Year  AvgTemperature\n",
       "0  Africa  Algeria   NaN  Algiers      1    1  1995            64.2\n",
       "1  Africa  Algeria   NaN  Algiers      1    2  1995            49.4\n",
       "2  Africa  Algeria   NaN  Algiers      1    3  1995            48.8\n",
       "3  Africa  Algeria   NaN  Algiers      1    4  1995            46.4\n",
       "4  Africa  Algeria   NaN  Algiers      1    5  1995            47.9"
      ]
     },
     "execution_count": 23,
     "metadata": {},
     "output_type": "execute_result"
    }
   ],
   "source": [
    "# Fetching data\n",
    "Temp_city = pd.read_csv(\"city_temperature.csv\", low_memory=False)\n",
    "Temp_city.head()"
   ]
  },
  {
   "cell_type": "code",
   "execution_count": 24,
   "id": "6d52d45a",
   "metadata": {},
   "outputs": [
    {
     "data": {
      "text/plain": [
       "Region                  0\n",
       "Country                 0\n",
       "State             1450990\n",
       "City                    0\n",
       "Month                   0\n",
       "Day                     0\n",
       "Year                    0\n",
       "AvgTemperature          0\n",
       "dtype: int64"
      ]
     },
     "execution_count": 24,
     "metadata": {},
     "output_type": "execute_result"
    }
   ],
   "source": [
    "# Checking null values\n",
    "Temp_city.isna().sum()"
   ]
  },
  {
   "cell_type": "code",
   "execution_count": 25,
   "id": "86af06e7",
   "metadata": {},
   "outputs": [
    {
     "data": {
      "text/html": [
       "<div>\n",
       "<style scoped>\n",
       "    .dataframe tbody tr th:only-of-type {\n",
       "        vertical-align: middle;\n",
       "    }\n",
       "\n",
       "    .dataframe tbody tr th {\n",
       "        vertical-align: top;\n",
       "    }\n",
       "\n",
       "    .dataframe thead th {\n",
       "        text-align: right;\n",
       "    }\n",
       "</style>\n",
       "<table border=\"1\" class=\"dataframe\">\n",
       "  <thead>\n",
       "    <tr style=\"text-align: right;\">\n",
       "      <th></th>\n",
       "      <th>Region</th>\n",
       "      <th>Country</th>\n",
       "      <th>City</th>\n",
       "      <th>Month</th>\n",
       "      <th>Day</th>\n",
       "      <th>Year</th>\n",
       "      <th>AvgTemperature</th>\n",
       "    </tr>\n",
       "  </thead>\n",
       "  <tbody>\n",
       "    <tr>\n",
       "      <th>0</th>\n",
       "      <td>Africa</td>\n",
       "      <td>Algeria</td>\n",
       "      <td>Algiers</td>\n",
       "      <td>1</td>\n",
       "      <td>1</td>\n",
       "      <td>1995</td>\n",
       "      <td>64.2</td>\n",
       "    </tr>\n",
       "    <tr>\n",
       "      <th>1</th>\n",
       "      <td>Africa</td>\n",
       "      <td>Algeria</td>\n",
       "      <td>Algiers</td>\n",
       "      <td>1</td>\n",
       "      <td>2</td>\n",
       "      <td>1995</td>\n",
       "      <td>49.4</td>\n",
       "    </tr>\n",
       "    <tr>\n",
       "      <th>2</th>\n",
       "      <td>Africa</td>\n",
       "      <td>Algeria</td>\n",
       "      <td>Algiers</td>\n",
       "      <td>1</td>\n",
       "      <td>3</td>\n",
       "      <td>1995</td>\n",
       "      <td>48.8</td>\n",
       "    </tr>\n",
       "    <tr>\n",
       "      <th>3</th>\n",
       "      <td>Africa</td>\n",
       "      <td>Algeria</td>\n",
       "      <td>Algiers</td>\n",
       "      <td>1</td>\n",
       "      <td>4</td>\n",
       "      <td>1995</td>\n",
       "      <td>46.4</td>\n",
       "    </tr>\n",
       "    <tr>\n",
       "      <th>4</th>\n",
       "      <td>Africa</td>\n",
       "      <td>Algeria</td>\n",
       "      <td>Algiers</td>\n",
       "      <td>1</td>\n",
       "      <td>5</td>\n",
       "      <td>1995</td>\n",
       "      <td>47.9</td>\n",
       "    </tr>\n",
       "  </tbody>\n",
       "</table>\n",
       "</div>"
      ],
      "text/plain": [
       "   Region  Country     City  Month  Day  Year  AvgTemperature\n",
       "0  Africa  Algeria  Algiers      1    1  1995            64.2\n",
       "1  Africa  Algeria  Algiers      1    2  1995            49.4\n",
       "2  Africa  Algeria  Algiers      1    3  1995            48.8\n",
       "3  Africa  Algeria  Algiers      1    4  1995            46.4\n",
       "4  Africa  Algeria  Algiers      1    5  1995            47.9"
      ]
     },
     "execution_count": 25,
     "metadata": {},
     "output_type": "execute_result"
    }
   ],
   "source": [
    "# Removing State column since it has many null values\n",
    "Temp_city.drop(columns=[\"State\"], inplace=True)\n",
    "Temp_city.head()"
   ]
  },
  {
   "cell_type": "code",
   "execution_count": 26,
   "id": "e023052e",
   "metadata": {},
   "outputs": [
    {
     "data": {
      "text/plain": [
       "Region             object\n",
       "Country            object\n",
       "City               object\n",
       "Month               int64\n",
       "Day                 int64\n",
       "Year                int64\n",
       "AvgTemperature    float64\n",
       "dtype: object"
      ]
     },
     "execution_count": 26,
     "metadata": {},
     "output_type": "execute_result"
    }
   ],
   "source": [
    "# Checking data type of columns\n",
    "Temp_city.dtypes"
   ]
  },
  {
   "cell_type": "code",
   "execution_count": 27,
   "id": "71b3377c",
   "metadata": {},
   "outputs": [],
   "source": [
    "# Removing unwanted/non sense data\n",
    "Temp_city = Temp_city.query(\"Month>0 & Month<=12 & Year>=1995 & Day>0 & Day<=31\")"
   ]
  },
  {
   "cell_type": "code",
   "execution_count": 28,
   "id": "ecbff210",
   "metadata": {},
   "outputs": [],
   "source": [
    "# Making a single Date\n",
    "Temp_city[\"Date\"] = Temp_city[\"Month\"].apply(str)+\"-\"+Temp_city[\"Day\"].apply(str)+\"-\"+Temp_city[\"Year\"].apply(str)\n",
    "Temp_city[\"Date\"] = pd.to_datetime(Temp_city[\"Date\"], infer_datetime_format=True)"
   ]
  },
  {
   "cell_type": "markdown",
   "id": "64830c19",
   "metadata": {},
   "source": [
    "#### Data Cleaning for CO2 emission by countries.csv"
   ]
  },
  {
   "cell_type": "code",
   "execution_count": 29,
   "id": "a588f40a",
   "metadata": {},
   "outputs": [
    {
     "data": {
      "text/html": [
       "<div>\n",
       "<style scoped>\n",
       "    .dataframe tbody tr th:only-of-type {\n",
       "        vertical-align: middle;\n",
       "    }\n",
       "\n",
       "    .dataframe tbody tr th {\n",
       "        vertical-align: top;\n",
       "    }\n",
       "\n",
       "    .dataframe thead th {\n",
       "        text-align: right;\n",
       "    }\n",
       "</style>\n",
       "<table border=\"1\" class=\"dataframe\">\n",
       "  <thead>\n",
       "    <tr style=\"text-align: right;\">\n",
       "      <th></th>\n",
       "      <th>Country</th>\n",
       "      <th>Code</th>\n",
       "      <th>Calling Code</th>\n",
       "      <th>Year</th>\n",
       "      <th>CO2 emission (Tons)</th>\n",
       "      <th>Population(2022)</th>\n",
       "      <th>Area</th>\n",
       "      <th>% of World</th>\n",
       "      <th>Density(km2)</th>\n",
       "    </tr>\n",
       "  </thead>\n",
       "  <tbody>\n",
       "    <tr>\n",
       "      <th>245</th>\n",
       "      <td>Afghanistan</td>\n",
       "      <td>AF</td>\n",
       "      <td>93</td>\n",
       "      <td>1995</td>\n",
       "      <td>66834352.0</td>\n",
       "      <td>41128771.0</td>\n",
       "      <td>652230.0</td>\n",
       "      <td>0.40%</td>\n",
       "      <td>63/km²</td>\n",
       "    </tr>\n",
       "    <tr>\n",
       "      <th>246</th>\n",
       "      <td>Afghanistan</td>\n",
       "      <td>AF</td>\n",
       "      <td>93</td>\n",
       "      <td>1996</td>\n",
       "      <td>67999272.0</td>\n",
       "      <td>41128771.0</td>\n",
       "      <td>652230.0</td>\n",
       "      <td>0.40%</td>\n",
       "      <td>63/km²</td>\n",
       "    </tr>\n",
       "    <tr>\n",
       "      <th>247</th>\n",
       "      <td>Afghanistan</td>\n",
       "      <td>AF</td>\n",
       "      <td>93</td>\n",
       "      <td>1997</td>\n",
       "      <td>69083399.0</td>\n",
       "      <td>41128771.0</td>\n",
       "      <td>652230.0</td>\n",
       "      <td>0.40%</td>\n",
       "      <td>63/km²</td>\n",
       "    </tr>\n",
       "    <tr>\n",
       "      <th>248</th>\n",
       "      <td>Afghanistan</td>\n",
       "      <td>AF</td>\n",
       "      <td>93</td>\n",
       "      <td>1998</td>\n",
       "      <td>70112556.0</td>\n",
       "      <td>41128771.0</td>\n",
       "      <td>652230.0</td>\n",
       "      <td>0.40%</td>\n",
       "      <td>63/km²</td>\n",
       "    </tr>\n",
       "    <tr>\n",
       "      <th>249</th>\n",
       "      <td>Afghanistan</td>\n",
       "      <td>AF</td>\n",
       "      <td>93</td>\n",
       "      <td>1999</td>\n",
       "      <td>70922068.0</td>\n",
       "      <td>41128771.0</td>\n",
       "      <td>652230.0</td>\n",
       "      <td>0.40%</td>\n",
       "      <td>63/km²</td>\n",
       "    </tr>\n",
       "  </tbody>\n",
       "</table>\n",
       "</div>"
      ],
      "text/plain": [
       "         Country Code Calling Code  Year  CO2 emission (Tons)  \\\n",
       "245  Afghanistan   AF           93  1995           66834352.0   \n",
       "246  Afghanistan   AF           93  1996           67999272.0   \n",
       "247  Afghanistan   AF           93  1997           69083399.0   \n",
       "248  Afghanistan   AF           93  1998           70112556.0   \n",
       "249  Afghanistan   AF           93  1999           70922068.0   \n",
       "\n",
       "     Population(2022)      Area % of World Density(km2)  \n",
       "245        41128771.0  652230.0      0.40%       63/km²  \n",
       "246        41128771.0  652230.0      0.40%       63/km²  \n",
       "247        41128771.0  652230.0      0.40%       63/km²  \n",
       "248        41128771.0  652230.0      0.40%       63/km²  \n",
       "249        41128771.0  652230.0      0.40%       63/km²  "
      ]
     },
     "execution_count": 29,
     "metadata": {},
     "output_type": "execute_result"
    }
   ],
   "source": [
    "# Fetching data\n",
    "CO2_data = pd.read_csv(\"CO2 emission by countries.csv\", encoding='latin1')\n",
    "CO2_data = CO2_data[CO2_data[\"Year\"]>=1995]\n",
    "CO2_data.head()"
   ]
  },
  {
   "cell_type": "code",
   "execution_count": 30,
   "id": "d97e1b52",
   "metadata": {},
   "outputs": [
    {
     "data": {
      "text/plain": [
       "Country                 object\n",
       "Code                    object\n",
       "Calling Code            object\n",
       "Year                     int64\n",
       "CO2 emission (Tons)    float64\n",
       "Population(2022)       float64\n",
       "Area                   float64\n",
       "% of World              object\n",
       "Density(km2)            object\n",
       "dtype: object"
      ]
     },
     "execution_count": 30,
     "metadata": {},
     "output_type": "execute_result"
    }
   ],
   "source": [
    "# Checking data type of columns\n",
    "CO2_data.dtypes"
   ]
  },
  {
   "cell_type": "code",
   "execution_count": 31,
   "id": "a11a6c15",
   "metadata": {},
   "outputs": [
    {
     "data": {
      "text/plain": [
       "Country                  0\n",
       "Code                   208\n",
       "Calling Code           338\n",
       "Year                     0\n",
       "CO2 emission (Tons)      0\n",
       "Population(2022)       624\n",
       "Area                   416\n",
       "% of World             416\n",
       "Density(km2)           624\n",
       "dtype: int64"
      ]
     },
     "execution_count": 31,
     "metadata": {},
     "output_type": "execute_result"
    }
   ],
   "source": [
    "# Checking null values\n",
    "CO2_data.isna().sum()"
   ]
  },
  {
   "cell_type": "code",
   "execution_count": 32,
   "id": "0fe16ce5",
   "metadata": {},
   "outputs": [
    {
     "data": {
      "text/plain": [
       "Country                0\n",
       "Code                   0\n",
       "Calling Code           0\n",
       "Year                   0\n",
       "CO2 emission (Tons)    0\n",
       "Population(2022)       0\n",
       "Area                   0\n",
       "% of World             0\n",
       "Density(km2)           0\n",
       "dtype: int64"
      ]
     },
     "execution_count": 32,
     "metadata": {},
     "output_type": "execute_result"
    }
   ],
   "source": [
    "# Removing Null values\n",
    "CO2_data.dropna(axis=0, inplace=True)\n",
    "CO2_data.isna().sum()"
   ]
  },
  {
   "cell_type": "code",
   "execution_count": 33,
   "id": "e74b9372",
   "metadata": {},
   "outputs": [],
   "source": [
    "# Converting int to datetime\n",
    "CO2_data[\"Year\"] = pd.to_datetime(CO2_data[\"Year\"], format=\"%Y\")"
   ]
  },
  {
   "cell_type": "markdown",
   "id": "63d4fc1d",
   "metadata": {},
   "source": [
    "## Programs\n",
    "\n"
   ]
  },
  {
   "cell_type": "markdown",
   "id": "897058df",
   "metadata": {},
   "source": [
    "#### Analysis on Temperature"
   ]
  },
  {
   "cell_type": "code",
   "execution_count": 34,
   "id": "55610982",
   "metadata": {},
   "outputs": [
    {
     "data": {
      "text/html": [
       "<div>\n",
       "<style scoped>\n",
       "    .dataframe tbody tr th:only-of-type {\n",
       "        vertical-align: middle;\n",
       "    }\n",
       "\n",
       "    .dataframe tbody tr th {\n",
       "        vertical-align: top;\n",
       "    }\n",
       "\n",
       "    .dataframe thead th {\n",
       "        text-align: right;\n",
       "    }\n",
       "</style>\n",
       "<table border=\"1\" class=\"dataframe\">\n",
       "  <thead>\n",
       "    <tr style=\"text-align: right;\">\n",
       "      <th></th>\n",
       "      <th>Month</th>\n",
       "      <th>Day</th>\n",
       "      <th>Year</th>\n",
       "      <th>AvgTemperature</th>\n",
       "    </tr>\n",
       "  </thead>\n",
       "  <tbody>\n",
       "    <tr>\n",
       "      <th>count</th>\n",
       "      <td>2.905879e+06</td>\n",
       "      <td>2.905879e+06</td>\n",
       "      <td>2.905879e+06</td>\n",
       "      <td>2.905879e+06</td>\n",
       "    </tr>\n",
       "    <tr>\n",
       "      <th>mean</th>\n",
       "      <td>6.468345e+00</td>\n",
       "      <td>1.571670e+01</td>\n",
       "      <td>2.006897e+03</td>\n",
       "      <td>5.602882e+01</td>\n",
       "    </tr>\n",
       "    <tr>\n",
       "      <th>std</th>\n",
       "      <td>3.456095e+00</td>\n",
       "      <td>8.800545e+00</td>\n",
       "      <td>7.277820e+00</td>\n",
       "      <td>3.206836e+01</td>\n",
       "    </tr>\n",
       "    <tr>\n",
       "      <th>min</th>\n",
       "      <td>1.000000e+00</td>\n",
       "      <td>1.000000e+00</td>\n",
       "      <td>1.995000e+03</td>\n",
       "      <td>-9.900000e+01</td>\n",
       "    </tr>\n",
       "    <tr>\n",
       "      <th>25%</th>\n",
       "      <td>3.000000e+00</td>\n",
       "      <td>8.000000e+00</td>\n",
       "      <td>2.001000e+03</td>\n",
       "      <td>4.580000e+01</td>\n",
       "    </tr>\n",
       "    <tr>\n",
       "      <th>50%</th>\n",
       "      <td>6.000000e+00</td>\n",
       "      <td>1.600000e+01</td>\n",
       "      <td>2.007000e+03</td>\n",
       "      <td>6.250000e+01</td>\n",
       "    </tr>\n",
       "    <tr>\n",
       "      <th>75%</th>\n",
       "      <td>9.000000e+00</td>\n",
       "      <td>2.300000e+01</td>\n",
       "      <td>2.013000e+03</td>\n",
       "      <td>7.550000e+01</td>\n",
       "    </tr>\n",
       "    <tr>\n",
       "      <th>max</th>\n",
       "      <td>1.200000e+01</td>\n",
       "      <td>3.100000e+01</td>\n",
       "      <td>2.020000e+03</td>\n",
       "      <td>1.100000e+02</td>\n",
       "    </tr>\n",
       "  </tbody>\n",
       "</table>\n",
       "</div>"
      ],
      "text/plain": [
       "              Month           Day          Year  AvgTemperature\n",
       "count  2.905879e+06  2.905879e+06  2.905879e+06    2.905879e+06\n",
       "mean   6.468345e+00  1.571670e+01  2.006897e+03    5.602882e+01\n",
       "std    3.456095e+00  8.800545e+00  7.277820e+00    3.206836e+01\n",
       "min    1.000000e+00  1.000000e+00  1.995000e+03   -9.900000e+01\n",
       "25%    3.000000e+00  8.000000e+00  2.001000e+03    4.580000e+01\n",
       "50%    6.000000e+00  1.600000e+01  2.007000e+03    6.250000e+01\n",
       "75%    9.000000e+00  2.300000e+01  2.013000e+03    7.550000e+01\n",
       "max    1.200000e+01  3.100000e+01  2.020000e+03    1.100000e+02"
      ]
     },
     "execution_count": 34,
     "metadata": {},
     "output_type": "execute_result"
    }
   ],
   "source": [
    "# Simple Summary Statistics\n",
    "Temp_city.describe()"
   ]
  },
  {
   "cell_type": "code",
   "execution_count": 35,
   "id": "ea8c662f",
   "metadata": {},
   "outputs": [
    {
     "data": {
      "image/png": "[encoded data removed]",
      "text/plain": [
       "<Figure size 864x504 with 1 Axes>"
      ]
     },
     "metadata": {
      "needs_background": "light"
     },
     "output_type": "display_data"
    }
   ],
   "source": [
    "# Calculating average temperature throughout the years\n",
    "avg_temp_year = Temp_city.groupby(\"Year\")[\"AvgTemperature\"].mean().plot(kind='line', figsize=(12,7), xlabel=\"Year\", ylabel=\"Average Temperature\", title=\"Average temperature throughout the years\", style='.-', grid=True)"
   ]
  },
  {
   "cell_type": "code",
   "execution_count": 36,
   "id": "8a068a79",
   "metadata": {},
   "outputs": [
    {
     "data": {
      "image/png": "[encoded data removed]",
      "text/plain": [
       "<Figure size 864x504 with 1 Axes>"
      ]
     },
     "metadata": {
      "needs_background": "light"
     },
     "output_type": "display_data"
    }
   ],
   "source": [
    "# Calculating average temperature of the countries\n",
    "avg_temp_country = Temp_city.groupby(\"Country\")[\"AvgTemperature\"].mean().nlargest(n=8).plot(kind='bar', figsize=(12,7), xlabel=\"Country\", ylabel=\"Average Temperature\", title=\"Average temperature of top 8 Countries\", color=\"green\")"
   ]
  },
  {
   "cell_type": "code",
   "execution_count": 37,
   "id": "57de4524",
   "metadata": {},
   "outputs": [
    {
     "data": {
      "image/png": "[encoded data removed]",
      "text/plain": [
       "<Figure size 864x504 with 1 Axes>"
      ]
     },
     "metadata": {
      "needs_background": "light"
     },
     "output_type": "display_data"
    }
   ],
   "source": [
    "# Calculating average temperature of the regions\n",
    "avg_temp_country = Temp_city.groupby(\"Region\")[\"AvgTemperature\"].mean().plot(kind='bar', figsize=(12,7), xlabel=\"Regions\", ylabel=\"Average Temperature\", title=\"Average temperature of the regions\")"
   ]
  },
  {
   "cell_type": "code",
   "execution_count": 38,
   "id": "adb99613",
   "metadata": {},
   "outputs": [
    {
     "data": {
      "image/png": "[encoded data removed]",
      "text/plain": [
       "<Figure size 864x504 with 1 Axes>"
      ]
     },
     "metadata": {
      "needs_background": "light"
     },
     "output_type": "display_data"
    }
   ],
   "source": [
    "# Calculating average temperature of the Pakistan\n",
    "pak_data = Temp_city[Temp_city[\"Country\"]==\"Pakistan\"]\n",
    "avg_temp_Pakistan = pak_data.groupby(\"Year\")[\"AvgTemperature\"].mean().plot(kind='bar', figsize=(12,7), xlabel=\"Year\", ylabel=\"Average Temperature\", title=\"Average temperature of Pakistan throughout the years\", color=\"orange\")"
   ]
  },
  {
   "cell_type": "markdown",
   "id": "c2781d32",
   "metadata": {},
   "source": [
    "#### Analysis on CO2 emission"
   ]
  },
  {
   "cell_type": "code",
   "execution_count": 39,
   "id": "ec8b509a",
   "metadata": {},
   "outputs": [
    {
     "data": {
      "text/html": [
       "<div>\n",
       "<style scoped>\n",
       "    .dataframe tbody tr th:only-of-type {\n",
       "        vertical-align: middle;\n",
       "    }\n",
       "\n",
       "    .dataframe tbody tr th {\n",
       "        vertical-align: top;\n",
       "    }\n",
       "\n",
       "    .dataframe thead th {\n",
       "        text-align: right;\n",
       "    }\n",
       "</style>\n",
       "<table border=\"1\" class=\"dataframe\">\n",
       "  <thead>\n",
       "    <tr style=\"text-align: right;\">\n",
       "      <th></th>\n",
       "      <th>CO2 emission (Tons)</th>\n",
       "      <th>Population(2022)</th>\n",
       "      <th>Area</th>\n",
       "    </tr>\n",
       "  </thead>\n",
       "  <tbody>\n",
       "    <tr>\n",
       "      <th>count</th>\n",
       "      <td>4.654000e+03</td>\n",
       "      <td>4.654000e+03</td>\n",
       "      <td>4.654000e+03</td>\n",
       "    </tr>\n",
       "    <tr>\n",
       "      <th>mean</th>\n",
       "      <td>6.271985e+09</td>\n",
       "      <td>4.186199e+07</td>\n",
       "      <td>6.328071e+05</td>\n",
       "    </tr>\n",
       "    <tr>\n",
       "      <th>std</th>\n",
       "      <td>2.959561e+10</td>\n",
       "      <td>1.545832e+08</td>\n",
       "      <td>1.551714e+06</td>\n",
       "    </tr>\n",
       "    <tr>\n",
       "      <th>min</th>\n",
       "      <td>5.129600e+04</td>\n",
       "      <td>1.131200e+04</td>\n",
       "      <td>2.100000e+01</td>\n",
       "    </tr>\n",
       "    <tr>\n",
       "      <th>25%</th>\n",
       "      <td>3.563106e+07</td>\n",
       "      <td>2.305825e+06</td>\n",
       "      <td>2.633800e+04</td>\n",
       "    </tr>\n",
       "    <tr>\n",
       "      <th>50%</th>\n",
       "      <td>3.356367e+08</td>\n",
       "      <td>9.038309e+06</td>\n",
       "      <td>1.303730e+05</td>\n",
       "    </tr>\n",
       "    <tr>\n",
       "      <th>75%</th>\n",
       "      <td>2.379174e+09</td>\n",
       "      <td>3.054758e+07</td>\n",
       "      <td>5.516950e+05</td>\n",
       "    </tr>\n",
       "    <tr>\n",
       "      <th>max</th>\n",
       "      <td>4.170000e+11</td>\n",
       "      <td>1.425887e+09</td>\n",
       "      <td>9.984670e+06</td>\n",
       "    </tr>\n",
       "  </tbody>\n",
       "</table>\n",
       "</div>"
      ],
      "text/plain": [
       "       CO2 emission (Tons)  Population(2022)          Area\n",
       "count         4.654000e+03      4.654000e+03  4.654000e+03\n",
       "mean          6.271985e+09      4.186199e+07  6.328071e+05\n",
       "std           2.959561e+10      1.545832e+08  1.551714e+06\n",
       "min           5.129600e+04      1.131200e+04  2.100000e+01\n",
       "25%           3.563106e+07      2.305825e+06  2.633800e+04\n",
       "50%           3.356367e+08      9.038309e+06  1.303730e+05\n",
       "75%           2.379174e+09      3.054758e+07  5.516950e+05\n",
       "max           4.170000e+11      1.425887e+09  9.984670e+06"
      ]
     },
     "execution_count": 39,
     "metadata": {},
     "output_type": "execute_result"
    }
   ],
   "source": [
    "# Simple Summary Statistics\n",
    "CO2_data.describe()"
   ]
  },
  {
   "cell_type": "code",
   "execution_count": 40,
   "id": "966b4ad3",
   "metadata": {},
   "outputs": [
    {
     "data": {
      "image/png": "[encoded data removed]",
      "text/plain": [
       "<Figure size 864x504 with 1 Axes>"
      ]
     },
     "metadata": {
      "needs_background": "light"
     },
     "output_type": "display_data"
    }
   ],
   "source": [
    "# Calculating average CO2 emission of Pakistan\n",
    "pak_data_CO2 = CO2_data[CO2_data[\"Country\"]==\"Pakistan\"]\n",
    "avg_CO2_Pakistan = pak_data_CO2.groupby(\"Year\")[\"CO2 emission (Tons)\"].mean().plot(kind='line', figsize=(12,7), xlabel=\"Year\", ylabel=\"Average CO2 emission (Tons)\", title=\"Average CO2 emission of Pakistan throughout the years\", color=\"black\",style='.-', grid=True )"
   ]
  },
  {
   "cell_type": "code",
   "execution_count": 41,
   "id": "be150aaa",
   "metadata": {},
   "outputs": [
    {
     "data": {
      "image/png": "[encoded data removed]",
      "text/plain": [
       "<Figure size 864x504 with 1 Axes>"
      ]
     },
     "metadata": {
      "needs_background": "light"
     },
     "output_type": "display_data"
    }
   ],
   "source": [
    "# Calculating average CO2 emission of the countries\n",
    "avg_CO2_country = CO2_data.groupby(\"Country\")[\"CO2 emission (Tons)\"].mean().nlargest(n=8).plot(kind='bar', figsize=(12,7), xlabel=\"Country\", ylabel=\"Average CO2 emission (Tons)\", title=\"Average CO2 emission of top 8 Countries\", color=\"green\")"
   ]
  },
  {
   "cell_type": "code",
   "execution_count": 42,
   "id": "fce9db5d",
   "metadata": {},
   "outputs": [
    {
     "data": {
      "text/plain": [
       "<AxesSubplot:>"
      ]
     },
     "execution_count": 42,
     "metadata": {},
     "output_type": "execute_result"
    },
    {
     "data": {
      "image/png": "[encoded data removed]",
      "text/plain": [
       "<Figure size 864x504 with 2 Axes>"
      ]
     },
     "metadata": {
      "needs_background": "light"
     },
     "output_type": "display_data"
    }
   ],
   "source": [
    "#Checking correlation\n",
    "plt.figure(figsize=(12,7))\n",
    "sns.heatmap(CO2_data.corr())"
   ]
  },
  {
   "cell_type": "markdown",
   "id": "9e637d24",
   "metadata": {},
   "source": [
    "## Results and analysis\n",
    "\n"
   ]
  },
  {
   "cell_type": "markdown",
   "id": "4709ecf7",
   "metadata": {},
   "source": [
    "#### The result is that the CO2 emissions is one of the main cause for global warming. We should take immediate measures to reduce the CO2 emission/green house gases so that global warming can be reduced, hence saving our only planet Earth. Following are the QAs from the analysis.\n",
    "\n",
    "> What highest temperature is reached by Earth till now?\n",
    "* Earth reached the highest temperature in 2017.\n",
    "\n",
    "> Which are the top 8 hottest countries?\n",
    "* The top 8 hottest countries are UAE, Qatar, Singapore, Philippines, Bahrain, Laos, India, and Panama.\n",
    "\n",
    "> Which is the hottest region?\n",
    "* Middle East is the hottest region.\n",
    "\n",
    "> What is the highest average temperature of Pakistan from 1995-2020?\n",
    "* Highest average temperature of Pakistan is reached in 2010.\n",
    "\n",
    "> What is the highest average CO2 emission done by Pakistan from 1995-2020?\n",
    "* Highest average CO2 emission done by Pakistan in 2020 (upto 5.5x $10^9$ tonnes).\n",
    "\n",
    "> Which top 8 countries produces the high amount of CO2?\n",
    "* The top 8 countries that produces the high amount of CO2 are US, China, Germany, UK, Japan, France, India, and Ukraine.\n",
    "\n",
    "> Is CO2 emission directly related to population? \n",
    "* Yes, according to the Pearson's correlation, both variables are positively correlated.\n"
   ]
  }
 ],
 "metadata": {
  "kernelspec": {
   "display_name": "Python 3.9.6 64-bit",
   "language": "python",
   "name": "python3"
  },
  "language_info": {
   "codemirror_mode": {
    "name": "ipython",
    "version": 3
   },
   "file_extension": ".py",
   "mimetype": "text/x-python",
   "name": "python",
   "nbconvert_exporter": "python",
   "pygments_lexer": "ipython3",
   "version": "3.9.6"
  },
  "vscode": {
   "interpreter": {
    "hash": "f6c8f846148a3e4d140e6ddf63c190cff559dcf260a4a21539f0978f2b58638c"
   }
  }
 },
 "nbformat": 4,
 "nbformat_minor": 5
}
